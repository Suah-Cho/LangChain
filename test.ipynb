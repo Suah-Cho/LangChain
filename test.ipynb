{
 "cells": [
  {
   "cell_type": "markdown",
   "id": "ea8b10cc",
   "metadata": {},
   "source": [
    "# 환경 설정\n",
    "(1) Env 환경변수"
   ]
  },
  {
   "cell_type": "code",
   "execution_count": 3,
   "id": "4525e8ac",
   "metadata": {},
   "outputs": [
    {
     "data": {
      "text/plain": [
       "True"
      ]
     },
     "execution_count": 3,
     "metadata": {},
     "output_type": "execute_result"
    }
   ],
   "source": [
    "from dotenv import load_dotenv\n",
    "load_dotenv()"
   ]
  },
  {
   "cell_type": "markdown",
   "id": "dd0ca108",
   "metadata": {},
   "source": [
    "(2) 기본 라이브러리"
   ]
  },
  {
   "cell_type": "markdown",
   "id": "0a834585",
   "metadata": {},
   "source": []
  }
 ],
 "metadata": {
  "kernelspec": {
   "display_name": "langchain-test-rpFYgS5z-py3.11",
   "language": "python",
   "name": "python3"
  },
  "language_info": {
   "codemirror_mode": {
    "name": "ipython",
    "version": 3
   },
   "file_extension": ".py",
   "mimetype": "text/x-python",
   "name": "python",
   "nbconvert_exporter": "python",
   "pygments_lexer": "ipython3",
   "version": "3.11.9"
  }
 },
 "nbformat": 4,
 "nbformat_minor": 5
}
